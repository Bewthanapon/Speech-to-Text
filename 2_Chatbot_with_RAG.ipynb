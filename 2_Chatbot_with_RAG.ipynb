{
  "cells": [
    {
      "cell_type": "markdown",
      "metadata": {
        "id": "view-in-github",
        "colab_type": "text"
      },
      "source": [
        "<a href=\"https://colab.research.google.com/github/Bewthanapon/Speech-to-Text/blob/main/2_Chatbot_with_RAG.ipynb\" target=\"_parent\"><img src=\"https://colab.research.google.com/assets/colab-badge.svg\" alt=\"Open In Colab\"/></a>"
      ]
    },
    {
      "cell_type": "markdown",
      "source": [
        "# Install & Import Library"
      ],
      "metadata": {
        "id": "ezyHYVQUzw2K"
      },
      "id": "ezyHYVQUzw2K"
    },
    {
      "cell_type": "code",
      "execution_count": 1,
      "id": "UVt3uUUESKks",
      "metadata": {
        "colab": {
          "base_uri": "https://localhost:8080/"
        },
        "id": "UVt3uUUESKks",
        "outputId": "136b0a80-7d0c-4ccc-ff28-02fa9bb18d18"
      },
      "outputs": [
        {
          "output_type": "stream",
          "name": "stdout",
          "text": [
            "Collecting langchain_community\n",
            "  Downloading langchain_community-0.3.19-py3-none-any.whl.metadata (2.4 kB)\n",
            "Collecting langchain-core<1.0.0,>=0.3.41 (from langchain_community)\n",
            "  Downloading langchain_core-0.3.41-py3-none-any.whl.metadata (5.9 kB)\n",
            "Collecting langchain<1.0.0,>=0.3.20 (from langchain_community)\n",
            "  Downloading langchain-0.3.20-py3-none-any.whl.metadata (7.7 kB)\n",
            "Requirement already satisfied: SQLAlchemy<3,>=1.4 in /usr/local/lib/python3.11/dist-packages (from langchain_community) (2.0.38)\n",
            "Requirement already satisfied: requests<3,>=2 in /usr/local/lib/python3.11/dist-packages (from langchain_community) (2.32.3)\n",
            "Requirement already satisfied: PyYAML>=5.3 in /usr/local/lib/python3.11/dist-packages (from langchain_community) (6.0.2)\n",
            "Requirement already satisfied: aiohttp<4.0.0,>=3.8.3 in /usr/local/lib/python3.11/dist-packages (from langchain_community) (3.11.13)\n",
            "Requirement already satisfied: tenacity!=8.4.0,<10,>=8.1.0 in /usr/local/lib/python3.11/dist-packages (from langchain_community) (9.0.0)\n",
            "Collecting dataclasses-json<0.7,>=0.5.7 (from langchain_community)\n",
            "  Downloading dataclasses_json-0.6.7-py3-none-any.whl.metadata (25 kB)\n",
            "Collecting pydantic-settings<3.0.0,>=2.4.0 (from langchain_community)\n",
            "  Downloading pydantic_settings-2.8.1-py3-none-any.whl.metadata (3.5 kB)\n",
            "Requirement already satisfied: langsmith<0.4,>=0.1.125 in /usr/local/lib/python3.11/dist-packages (from langchain_community) (0.3.11)\n",
            "Collecting httpx-sse<1.0.0,>=0.4.0 (from langchain_community)\n",
            "  Downloading httpx_sse-0.4.0-py3-none-any.whl.metadata (9.0 kB)\n",
            "Requirement already satisfied: numpy<3,>=1.26.2 in /usr/local/lib/python3.11/dist-packages (from langchain_community) (1.26.4)\n",
            "Requirement already satisfied: aiohappyeyeballs>=2.3.0 in /usr/local/lib/python3.11/dist-packages (from aiohttp<4.0.0,>=3.8.3->langchain_community) (2.4.6)\n",
            "Requirement already satisfied: aiosignal>=1.1.2 in /usr/local/lib/python3.11/dist-packages (from aiohttp<4.0.0,>=3.8.3->langchain_community) (1.3.2)\n",
            "Requirement already satisfied: attrs>=17.3.0 in /usr/local/lib/python3.11/dist-packages (from aiohttp<4.0.0,>=3.8.3->langchain_community) (25.1.0)\n",
            "Requirement already satisfied: frozenlist>=1.1.1 in /usr/local/lib/python3.11/dist-packages (from aiohttp<4.0.0,>=3.8.3->langchain_community) (1.5.0)\n",
            "Requirement already satisfied: multidict<7.0,>=4.5 in /usr/local/lib/python3.11/dist-packages (from aiohttp<4.0.0,>=3.8.3->langchain_community) (6.1.0)\n",
            "Requirement already satisfied: propcache>=0.2.0 in /usr/local/lib/python3.11/dist-packages (from aiohttp<4.0.0,>=3.8.3->langchain_community) (0.3.0)\n",
            "Requirement already satisfied: yarl<2.0,>=1.17.0 in /usr/local/lib/python3.11/dist-packages (from aiohttp<4.0.0,>=3.8.3->langchain_community) (1.18.3)\n",
            "Collecting marshmallow<4.0.0,>=3.18.0 (from dataclasses-json<0.7,>=0.5.7->langchain_community)\n",
            "  Downloading marshmallow-3.26.1-py3-none-any.whl.metadata (7.3 kB)\n",
            "Collecting typing-inspect<1,>=0.4.0 (from dataclasses-json<0.7,>=0.5.7->langchain_community)\n",
            "  Downloading typing_inspect-0.9.0-py3-none-any.whl.metadata (1.5 kB)\n",
            "Requirement already satisfied: langchain-text-splitters<1.0.0,>=0.3.6 in /usr/local/lib/python3.11/dist-packages (from langchain<1.0.0,>=0.3.20->langchain_community) (0.3.6)\n",
            "Requirement already satisfied: pydantic<3.0.0,>=2.7.4 in /usr/local/lib/python3.11/dist-packages (from langchain<1.0.0,>=0.3.20->langchain_community) (2.10.6)\n",
            "Requirement already satisfied: jsonpatch<2.0,>=1.33 in /usr/local/lib/python3.11/dist-packages (from langchain-core<1.0.0,>=0.3.41->langchain_community) (1.33)\n",
            "Requirement already satisfied: packaging<25,>=23.2 in /usr/local/lib/python3.11/dist-packages (from langchain-core<1.0.0,>=0.3.41->langchain_community) (24.2)\n",
            "Requirement already satisfied: typing-extensions>=4.7 in /usr/local/lib/python3.11/dist-packages (from langchain-core<1.0.0,>=0.3.41->langchain_community) (4.12.2)\n",
            "Requirement already satisfied: httpx<1,>=0.23.0 in /usr/local/lib/python3.11/dist-packages (from langsmith<0.4,>=0.1.125->langchain_community) (0.28.1)\n",
            "Requirement already satisfied: orjson<4.0.0,>=3.9.14 in /usr/local/lib/python3.11/dist-packages (from langsmith<0.4,>=0.1.125->langchain_community) (3.10.15)\n",
            "Requirement already satisfied: requests-toolbelt<2.0.0,>=1.0.0 in /usr/local/lib/python3.11/dist-packages (from langsmith<0.4,>=0.1.125->langchain_community) (1.0.0)\n",
            "Requirement already satisfied: zstandard<0.24.0,>=0.23.0 in /usr/local/lib/python3.11/dist-packages (from langsmith<0.4,>=0.1.125->langchain_community) (0.23.0)\n",
            "Collecting python-dotenv>=0.21.0 (from pydantic-settings<3.0.0,>=2.4.0->langchain_community)\n",
            "  Downloading python_dotenv-1.0.1-py3-none-any.whl.metadata (23 kB)\n",
            "Requirement already satisfied: charset-normalizer<4,>=2 in /usr/local/lib/python3.11/dist-packages (from requests<3,>=2->langchain_community) (3.4.1)\n",
            "Requirement already satisfied: idna<4,>=2.5 in /usr/local/lib/python3.11/dist-packages (from requests<3,>=2->langchain_community) (3.10)\n",
            "Requirement already satisfied: urllib3<3,>=1.21.1 in /usr/local/lib/python3.11/dist-packages (from requests<3,>=2->langchain_community) (2.3.0)\n",
            "Requirement already satisfied: certifi>=2017.4.17 in /usr/local/lib/python3.11/dist-packages (from requests<3,>=2->langchain_community) (2025.1.31)\n",
            "Requirement already satisfied: greenlet!=0.4.17 in /usr/local/lib/python3.11/dist-packages (from SQLAlchemy<3,>=1.4->langchain_community) (3.1.1)\n",
            "Requirement already satisfied: anyio in /usr/local/lib/python3.11/dist-packages (from httpx<1,>=0.23.0->langsmith<0.4,>=0.1.125->langchain_community) (3.7.1)\n",
            "Requirement already satisfied: httpcore==1.* in /usr/local/lib/python3.11/dist-packages (from httpx<1,>=0.23.0->langsmith<0.4,>=0.1.125->langchain_community) (1.0.7)\n",
            "Requirement already satisfied: h11<0.15,>=0.13 in /usr/local/lib/python3.11/dist-packages (from httpcore==1.*->httpx<1,>=0.23.0->langsmith<0.4,>=0.1.125->langchain_community) (0.14.0)\n",
            "Requirement already satisfied: jsonpointer>=1.9 in /usr/local/lib/python3.11/dist-packages (from jsonpatch<2.0,>=1.33->langchain-core<1.0.0,>=0.3.41->langchain_community) (3.0.0)\n",
            "Requirement already satisfied: annotated-types>=0.6.0 in /usr/local/lib/python3.11/dist-packages (from pydantic<3.0.0,>=2.7.4->langchain<1.0.0,>=0.3.20->langchain_community) (0.7.0)\n",
            "Requirement already satisfied: pydantic-core==2.27.2 in /usr/local/lib/python3.11/dist-packages (from pydantic<3.0.0,>=2.7.4->langchain<1.0.0,>=0.3.20->langchain_community) (2.27.2)\n",
            "Collecting mypy-extensions>=0.3.0 (from typing-inspect<1,>=0.4.0->dataclasses-json<0.7,>=0.5.7->langchain_community)\n",
            "  Downloading mypy_extensions-1.0.0-py3-none-any.whl.metadata (1.1 kB)\n",
            "Requirement already satisfied: sniffio>=1.1 in /usr/local/lib/python3.11/dist-packages (from anyio->httpx<1,>=0.23.0->langsmith<0.4,>=0.1.125->langchain_community) (1.3.1)\n",
            "Downloading langchain_community-0.3.19-py3-none-any.whl (2.5 MB)\n",
            "\u001b[2K   \u001b[90m━━━━━━━━━━━━━━━━━━━━━━━━━━━━━━━━━━━━━━━━\u001b[0m \u001b[32m2.5/2.5 MB\u001b[0m \u001b[31m19.6 MB/s\u001b[0m eta \u001b[36m0:00:00\u001b[0m\n",
            "\u001b[?25hDownloading dataclasses_json-0.6.7-py3-none-any.whl (28 kB)\n",
            "Downloading httpx_sse-0.4.0-py3-none-any.whl (7.8 kB)\n",
            "Downloading langchain-0.3.20-py3-none-any.whl (1.0 MB)\n",
            "\u001b[2K   \u001b[90m━━━━━━━━━━━━━━━━━━━━━━━━━━━━━━━━━━━━━━━━\u001b[0m \u001b[32m1.0/1.0 MB\u001b[0m \u001b[31m14.5 MB/s\u001b[0m eta \u001b[36m0:00:00\u001b[0m\n",
            "\u001b[?25hDownloading langchain_core-0.3.41-py3-none-any.whl (415 kB)\n",
            "\u001b[2K   \u001b[90m━━━━━━━━━━━━━━━━━━━━━━━━━━━━━━━━━━━━━━━━\u001b[0m \u001b[32m415.1/415.1 kB\u001b[0m \u001b[31m14.9 MB/s\u001b[0m eta \u001b[36m0:00:00\u001b[0m\n",
            "\u001b[?25hDownloading pydantic_settings-2.8.1-py3-none-any.whl (30 kB)\n",
            "Downloading marshmallow-3.26.1-py3-none-any.whl (50 kB)\n",
            "\u001b[2K   \u001b[90m━━━━━━━━━━━━━━━━━━━━━━━━━━━━━━━━━━━━━━━━\u001b[0m \u001b[32m50.9/50.9 kB\u001b[0m \u001b[31m2.1 MB/s\u001b[0m eta \u001b[36m0:00:00\u001b[0m\n",
            "\u001b[?25hDownloading python_dotenv-1.0.1-py3-none-any.whl (19 kB)\n",
            "Downloading typing_inspect-0.9.0-py3-none-any.whl (8.8 kB)\n",
            "Downloading mypy_extensions-1.0.0-py3-none-any.whl (4.7 kB)\n",
            "Installing collected packages: python-dotenv, mypy-extensions, marshmallow, httpx-sse, typing-inspect, pydantic-settings, dataclasses-json, langchain-core, langchain, langchain_community\n",
            "  Attempting uninstall: langchain-core\n",
            "    Found existing installation: langchain-core 0.3.40\n",
            "    Uninstalling langchain-core-0.3.40:\n",
            "      Successfully uninstalled langchain-core-0.3.40\n",
            "  Attempting uninstall: langchain\n",
            "    Found existing installation: langchain 0.3.19\n",
            "    Uninstalling langchain-0.3.19:\n",
            "      Successfully uninstalled langchain-0.3.19\n",
            "Successfully installed dataclasses-json-0.6.7 httpx-sse-0.4.0 langchain-0.3.20 langchain-core-0.3.41 langchain_community-0.3.19 marshmallow-3.26.1 mypy-extensions-1.0.0 pydantic-settings-2.8.1 python-dotenv-1.0.1 typing-inspect-0.9.0\n"
          ]
        }
      ],
      "source": [
        "!pip install langchain_community"
      ]
    },
    {
      "cell_type": "code",
      "execution_count": 2,
      "id": "t1nYtOkgSNDT",
      "metadata": {
        "colab": {
          "base_uri": "https://localhost:8080/"
        },
        "id": "t1nYtOkgSNDT",
        "outputId": "4ed1528f-6c79-4d1c-9ec0-0386bb877131"
      },
      "outputs": [
        {
          "output_type": "stream",
          "name": "stdout",
          "text": [
            "Collecting langchain_openai\n",
            "  Downloading langchain_openai-0.3.7-py3-none-any.whl.metadata (2.3 kB)\n",
            "Requirement already satisfied: langchain-core<1.0.0,>=0.3.39 in /usr/local/lib/python3.11/dist-packages (from langchain_openai) (0.3.41)\n",
            "Requirement already satisfied: openai<2.0.0,>=1.58.1 in /usr/local/lib/python3.11/dist-packages (from langchain_openai) (1.61.1)\n",
            "Collecting tiktoken<1,>=0.7 (from langchain_openai)\n",
            "  Downloading tiktoken-0.9.0-cp311-cp311-manylinux_2_17_x86_64.manylinux2014_x86_64.whl.metadata (6.7 kB)\n",
            "Requirement already satisfied: langsmith<0.4,>=0.1.125 in /usr/local/lib/python3.11/dist-packages (from langchain-core<1.0.0,>=0.3.39->langchain_openai) (0.3.11)\n",
            "Requirement already satisfied: tenacity!=8.4.0,<10.0.0,>=8.1.0 in /usr/local/lib/python3.11/dist-packages (from langchain-core<1.0.0,>=0.3.39->langchain_openai) (9.0.0)\n",
            "Requirement already satisfied: jsonpatch<2.0,>=1.33 in /usr/local/lib/python3.11/dist-packages (from langchain-core<1.0.0,>=0.3.39->langchain_openai) (1.33)\n",
            "Requirement already satisfied: PyYAML>=5.3 in /usr/local/lib/python3.11/dist-packages (from langchain-core<1.0.0,>=0.3.39->langchain_openai) (6.0.2)\n",
            "Requirement already satisfied: packaging<25,>=23.2 in /usr/local/lib/python3.11/dist-packages (from langchain-core<1.0.0,>=0.3.39->langchain_openai) (24.2)\n",
            "Requirement already satisfied: typing-extensions>=4.7 in /usr/local/lib/python3.11/dist-packages (from langchain-core<1.0.0,>=0.3.39->langchain_openai) (4.12.2)\n",
            "Requirement already satisfied: pydantic<3.0.0,>=2.5.2 in /usr/local/lib/python3.11/dist-packages (from langchain-core<1.0.0,>=0.3.39->langchain_openai) (2.10.6)\n",
            "Requirement already satisfied: anyio<5,>=3.5.0 in /usr/local/lib/python3.11/dist-packages (from openai<2.0.0,>=1.58.1->langchain_openai) (3.7.1)\n",
            "Requirement already satisfied: distro<2,>=1.7.0 in /usr/local/lib/python3.11/dist-packages (from openai<2.0.0,>=1.58.1->langchain_openai) (1.9.0)\n",
            "Requirement already satisfied: httpx<1,>=0.23.0 in /usr/local/lib/python3.11/dist-packages (from openai<2.0.0,>=1.58.1->langchain_openai) (0.28.1)\n",
            "Requirement already satisfied: jiter<1,>=0.4.0 in /usr/local/lib/python3.11/dist-packages (from openai<2.0.0,>=1.58.1->langchain_openai) (0.8.2)\n",
            "Requirement already satisfied: sniffio in /usr/local/lib/python3.11/dist-packages (from openai<2.0.0,>=1.58.1->langchain_openai) (1.3.1)\n",
            "Requirement already satisfied: tqdm>4 in /usr/local/lib/python3.11/dist-packages (from openai<2.0.0,>=1.58.1->langchain_openai) (4.67.1)\n",
            "Requirement already satisfied: regex>=2022.1.18 in /usr/local/lib/python3.11/dist-packages (from tiktoken<1,>=0.7->langchain_openai) (2024.11.6)\n",
            "Requirement already satisfied: requests>=2.26.0 in /usr/local/lib/python3.11/dist-packages (from tiktoken<1,>=0.7->langchain_openai) (2.32.3)\n",
            "Requirement already satisfied: idna>=2.8 in /usr/local/lib/python3.11/dist-packages (from anyio<5,>=3.5.0->openai<2.0.0,>=1.58.1->langchain_openai) (3.10)\n",
            "Requirement already satisfied: certifi in /usr/local/lib/python3.11/dist-packages (from httpx<1,>=0.23.0->openai<2.0.0,>=1.58.1->langchain_openai) (2025.1.31)\n",
            "Requirement already satisfied: httpcore==1.* in /usr/local/lib/python3.11/dist-packages (from httpx<1,>=0.23.0->openai<2.0.0,>=1.58.1->langchain_openai) (1.0.7)\n",
            "Requirement already satisfied: h11<0.15,>=0.13 in /usr/local/lib/python3.11/dist-packages (from httpcore==1.*->httpx<1,>=0.23.0->openai<2.0.0,>=1.58.1->langchain_openai) (0.14.0)\n",
            "Requirement already satisfied: jsonpointer>=1.9 in /usr/local/lib/python3.11/dist-packages (from jsonpatch<2.0,>=1.33->langchain-core<1.0.0,>=0.3.39->langchain_openai) (3.0.0)\n",
            "Requirement already satisfied: orjson<4.0.0,>=3.9.14 in /usr/local/lib/python3.11/dist-packages (from langsmith<0.4,>=0.1.125->langchain-core<1.0.0,>=0.3.39->langchain_openai) (3.10.15)\n",
            "Requirement already satisfied: requests-toolbelt<2.0.0,>=1.0.0 in /usr/local/lib/python3.11/dist-packages (from langsmith<0.4,>=0.1.125->langchain-core<1.0.0,>=0.3.39->langchain_openai) (1.0.0)\n",
            "Requirement already satisfied: zstandard<0.24.0,>=0.23.0 in /usr/local/lib/python3.11/dist-packages (from langsmith<0.4,>=0.1.125->langchain-core<1.0.0,>=0.3.39->langchain_openai) (0.23.0)\n",
            "Requirement already satisfied: annotated-types>=0.6.0 in /usr/local/lib/python3.11/dist-packages (from pydantic<3.0.0,>=2.5.2->langchain-core<1.0.0,>=0.3.39->langchain_openai) (0.7.0)\n",
            "Requirement already satisfied: pydantic-core==2.27.2 in /usr/local/lib/python3.11/dist-packages (from pydantic<3.0.0,>=2.5.2->langchain-core<1.0.0,>=0.3.39->langchain_openai) (2.27.2)\n",
            "Requirement already satisfied: charset-normalizer<4,>=2 in /usr/local/lib/python3.11/dist-packages (from requests>=2.26.0->tiktoken<1,>=0.7->langchain_openai) (3.4.1)\n",
            "Requirement already satisfied: urllib3<3,>=1.21.1 in /usr/local/lib/python3.11/dist-packages (from requests>=2.26.0->tiktoken<1,>=0.7->langchain_openai) (2.3.0)\n",
            "Downloading langchain_openai-0.3.7-py3-none-any.whl (55 kB)\n",
            "\u001b[2K   \u001b[90m━━━━━━━━━━━━━━━━━━━━━━━━━━━━━━━━━━━━━━━━\u001b[0m \u001b[32m55.3/55.3 kB\u001b[0m \u001b[31m1.8 MB/s\u001b[0m eta \u001b[36m0:00:00\u001b[0m\n",
            "\u001b[?25hDownloading tiktoken-0.9.0-cp311-cp311-manylinux_2_17_x86_64.manylinux2014_x86_64.whl (1.2 MB)\n",
            "\u001b[2K   \u001b[90m━━━━━━━━━━━━━━━━━━━━━━━━━━━━━━━━━━━━━━━━\u001b[0m \u001b[32m1.2/1.2 MB\u001b[0m \u001b[31m21.6 MB/s\u001b[0m eta \u001b[36m0:00:00\u001b[0m\n",
            "\u001b[?25hInstalling collected packages: tiktoken, langchain_openai\n",
            "Successfully installed langchain_openai-0.3.7 tiktoken-0.9.0\n"
          ]
        }
      ],
      "source": [
        "!pip install langchain_openai"
      ]
    },
    {
      "cell_type": "code",
      "execution_count": 3,
      "id": "7SSHJqSvSuvv",
      "metadata": {
        "colab": {
          "base_uri": "https://localhost:8080/"
        },
        "id": "7SSHJqSvSuvv",
        "outputId": "cbadb6db-d153-4eb3-f737-b7216361bd1e"
      },
      "outputs": [
        {
          "output_type": "stream",
          "name": "stdout",
          "text": [
            "Collecting Chroma\n",
            "  Downloading Chroma-0.2.0.tar.gz (5.8 kB)\n",
            "  Preparing metadata (setup.py) ... \u001b[?25l\u001b[?25hdone\n",
            "Building wheels for collected packages: Chroma\n",
            "  Building wheel for Chroma (setup.py) ... \u001b[?25l\u001b[?25hdone\n",
            "  Created wheel for Chroma: filename=Chroma-0.2.0-py3-none-any.whl size=7094 sha256=cbb5695bf2dcc6021817f37d662a67a95833616c38518513db8745ef0dc753a4\n",
            "  Stored in directory: /root/.cache/pip/wheels/d9/fb/ff/59d3b021a3434588b65b15f1a785b4aebca8f21ea516319194\n",
            "Successfully built Chroma\n",
            "Installing collected packages: Chroma\n",
            "Successfully installed Chroma-0.2.0\n"
          ]
        }
      ],
      "source": [
        "!pip install Chroma"
      ]
    },
    {
      "cell_type": "code",
      "execution_count": 4,
      "id": "a351a2ba",
      "metadata": {
        "colab": {
          "base_uri": "https://localhost:8080/",
          "height": 1000
        },
        "id": "a351a2ba",
        "outputId": "a19cd32c-9d1b-406e-c6ae-fb59162a1b23"
      },
      "outputs": [
        {
          "output_type": "stream",
          "name": "stdout",
          "text": [
            "Collecting chromadb\n",
            "  Downloading chromadb-0.6.3-py3-none-any.whl.metadata (6.8 kB)\n",
            "Collecting build>=1.0.3 (from chromadb)\n",
            "  Downloading build-1.2.2.post1-py3-none-any.whl.metadata (6.5 kB)\n",
            "Requirement already satisfied: pydantic>=1.9 in /usr/local/lib/python3.11/dist-packages (from chromadb) (2.10.6)\n",
            "Collecting chroma-hnswlib==0.7.6 (from chromadb)\n",
            "  Downloading chroma_hnswlib-0.7.6-cp311-cp311-manylinux_2_17_x86_64.manylinux2014_x86_64.whl.metadata (252 bytes)\n",
            "Collecting fastapi>=0.95.2 (from chromadb)\n",
            "  Downloading fastapi-0.115.11-py3-none-any.whl.metadata (27 kB)\n",
            "Collecting uvicorn>=0.18.3 (from uvicorn[standard]>=0.18.3->chromadb)\n",
            "  Downloading uvicorn-0.34.0-py3-none-any.whl.metadata (6.5 kB)\n",
            "Requirement already satisfied: numpy>=1.22.5 in /usr/local/lib/python3.11/dist-packages (from chromadb) (1.26.4)\n",
            "Collecting posthog>=2.4.0 (from chromadb)\n",
            "  Downloading posthog-3.19.0-py2.py3-none-any.whl.metadata (2.9 kB)\n",
            "Requirement already satisfied: typing_extensions>=4.5.0 in /usr/local/lib/python3.11/dist-packages (from chromadb) (4.12.2)\n",
            "Collecting onnxruntime>=1.14.1 (from chromadb)\n",
            "  Downloading onnxruntime-1.20.1-cp311-cp311-manylinux_2_27_x86_64.manylinux_2_28_x86_64.whl.metadata (4.5 kB)\n",
            "Requirement already satisfied: opentelemetry-api>=1.2.0 in /usr/local/lib/python3.11/dist-packages (from chromadb) (1.16.0)\n",
            "Collecting opentelemetry-exporter-otlp-proto-grpc>=1.2.0 (from chromadb)\n",
            "  Downloading opentelemetry_exporter_otlp_proto_grpc-1.30.0-py3-none-any.whl.metadata (2.4 kB)\n",
            "Collecting opentelemetry-instrumentation-fastapi>=0.41b0 (from chromadb)\n",
            "  Downloading opentelemetry_instrumentation_fastapi-0.51b0-py3-none-any.whl.metadata (2.2 kB)\n",
            "Requirement already satisfied: opentelemetry-sdk>=1.2.0 in /usr/local/lib/python3.11/dist-packages (from chromadb) (1.16.0)\n",
            "Requirement already satisfied: tokenizers>=0.13.2 in /usr/local/lib/python3.11/dist-packages (from chromadb) (0.21.0)\n",
            "Collecting pypika>=0.48.9 (from chromadb)\n",
            "  Downloading PyPika-0.48.9.tar.gz (67 kB)\n",
            "\u001b[2K     \u001b[90m━━━━━━━━━━━━━━━━━━━━━━━━━━━━━━━━━━━━━━━━\u001b[0m \u001b[32m67.3/67.3 kB\u001b[0m \u001b[31m4.9 MB/s\u001b[0m eta \u001b[36m0:00:00\u001b[0m\n",
            "\u001b[?25h  Installing build dependencies ... \u001b[?25l\u001b[?25hdone\n",
            "  Getting requirements to build wheel ... \u001b[?25l\u001b[?25hdone\n",
            "  Preparing metadata (pyproject.toml) ... \u001b[?25l\u001b[?25hdone\n",
            "Requirement already satisfied: tqdm>=4.65.0 in /usr/local/lib/python3.11/dist-packages (from chromadb) (4.67.1)\n",
            "Collecting overrides>=7.3.1 (from chromadb)\n",
            "  Downloading overrides-7.7.0-py3-none-any.whl.metadata (5.8 kB)\n",
            "Requirement already satisfied: importlib-resources in /usr/local/lib/python3.11/dist-packages (from chromadb) (6.5.2)\n",
            "Requirement already satisfied: grpcio>=1.58.0 in /usr/local/lib/python3.11/dist-packages (from chromadb) (1.70.0)\n",
            "Collecting bcrypt>=4.0.1 (from chromadb)\n",
            "  Downloading bcrypt-4.3.0-cp39-abi3-manylinux_2_34_x86_64.whl.metadata (10 kB)\n",
            "Requirement already satisfied: typer>=0.9.0 in /usr/local/lib/python3.11/dist-packages (from chromadb) (0.15.2)\n",
            "Collecting kubernetes>=28.1.0 (from chromadb)\n",
            "  Downloading kubernetes-32.0.1-py2.py3-none-any.whl.metadata (1.7 kB)\n",
            "Requirement already satisfied: tenacity>=8.2.3 in /usr/local/lib/python3.11/dist-packages (from chromadb) (9.0.0)\n",
            "Requirement already satisfied: PyYAML>=6.0.0 in /usr/local/lib/python3.11/dist-packages (from chromadb) (6.0.2)\n",
            "Collecting mmh3>=4.0.1 (from chromadb)\n",
            "  Downloading mmh3-5.1.0-cp311-cp311-manylinux_2_5_x86_64.manylinux1_x86_64.manylinux_2_17_x86_64.manylinux2014_x86_64.whl.metadata (16 kB)\n",
            "Requirement already satisfied: orjson>=3.9.12 in /usr/local/lib/python3.11/dist-packages (from chromadb) (3.10.15)\n",
            "Requirement already satisfied: httpx>=0.27.0 in /usr/local/lib/python3.11/dist-packages (from chromadb) (0.28.1)\n",
            "Requirement already satisfied: rich>=10.11.0 in /usr/local/lib/python3.11/dist-packages (from chromadb) (13.9.4)\n",
            "Requirement already satisfied: packaging>=19.1 in /usr/local/lib/python3.11/dist-packages (from build>=1.0.3->chromadb) (24.2)\n",
            "Collecting pyproject_hooks (from build>=1.0.3->chromadb)\n",
            "  Downloading pyproject_hooks-1.2.0-py3-none-any.whl.metadata (1.3 kB)\n",
            "Collecting starlette<0.47.0,>=0.40.0 (from fastapi>=0.95.2->chromadb)\n",
            "  Downloading starlette-0.46.0-py3-none-any.whl.metadata (6.2 kB)\n",
            "Requirement already satisfied: anyio in /usr/local/lib/python3.11/dist-packages (from httpx>=0.27.0->chromadb) (3.7.1)\n",
            "Requirement already satisfied: certifi in /usr/local/lib/python3.11/dist-packages (from httpx>=0.27.0->chromadb) (2025.1.31)\n",
            "Requirement already satisfied: httpcore==1.* in /usr/local/lib/python3.11/dist-packages (from httpx>=0.27.0->chromadb) (1.0.7)\n",
            "Requirement already satisfied: idna in /usr/local/lib/python3.11/dist-packages (from httpx>=0.27.0->chromadb) (3.10)\n",
            "Requirement already satisfied: h11<0.15,>=0.13 in /usr/local/lib/python3.11/dist-packages (from httpcore==1.*->httpx>=0.27.0->chromadb) (0.14.0)\n",
            "Requirement already satisfied: six>=1.9.0 in /usr/local/lib/python3.11/dist-packages (from kubernetes>=28.1.0->chromadb) (1.17.0)\n",
            "Requirement already satisfied: python-dateutil>=2.5.3 in /usr/local/lib/python3.11/dist-packages (from kubernetes>=28.1.0->chromadb) (2.8.2)\n",
            "Requirement already satisfied: google-auth>=1.0.1 in /usr/local/lib/python3.11/dist-packages (from kubernetes>=28.1.0->chromadb) (2.38.0)\n",
            "Requirement already satisfied: websocket-client!=0.40.0,!=0.41.*,!=0.42.*,>=0.32.0 in /usr/local/lib/python3.11/dist-packages (from kubernetes>=28.1.0->chromadb) (1.8.0)\n",
            "Requirement already satisfied: requests in /usr/local/lib/python3.11/dist-packages (from kubernetes>=28.1.0->chromadb) (2.32.3)\n",
            "Requirement already satisfied: requests-oauthlib in /usr/local/lib/python3.11/dist-packages (from kubernetes>=28.1.0->chromadb) (2.0.0)\n",
            "Requirement already satisfied: oauthlib>=3.2.2 in /usr/local/lib/python3.11/dist-packages (from kubernetes>=28.1.0->chromadb) (3.2.2)\n",
            "Requirement already satisfied: urllib3>=1.24.2 in /usr/local/lib/python3.11/dist-packages (from kubernetes>=28.1.0->chromadb) (2.3.0)\n",
            "Collecting durationpy>=0.7 (from kubernetes>=28.1.0->chromadb)\n",
            "  Downloading durationpy-0.9-py3-none-any.whl.metadata (338 bytes)\n",
            "Collecting coloredlogs (from onnxruntime>=1.14.1->chromadb)\n",
            "  Downloading coloredlogs-15.0.1-py2.py3-none-any.whl.metadata (12 kB)\n",
            "Requirement already satisfied: flatbuffers in /usr/local/lib/python3.11/dist-packages (from onnxruntime>=1.14.1->chromadb) (25.2.10)\n",
            "Requirement already satisfied: protobuf in /usr/local/lib/python3.11/dist-packages (from onnxruntime>=1.14.1->chromadb) (4.25.6)\n",
            "Requirement already satisfied: sympy in /usr/local/lib/python3.11/dist-packages (from onnxruntime>=1.14.1->chromadb) (1.13.1)\n",
            "Requirement already satisfied: deprecated>=1.2.6 in /usr/local/lib/python3.11/dist-packages (from opentelemetry-api>=1.2.0->chromadb) (1.2.18)\n",
            "Requirement already satisfied: setuptools>=16.0 in /usr/local/lib/python3.11/dist-packages (from opentelemetry-api>=1.2.0->chromadb) (75.1.0)\n",
            "Requirement already satisfied: googleapis-common-protos~=1.52 in /usr/local/lib/python3.11/dist-packages (from opentelemetry-exporter-otlp-proto-grpc>=1.2.0->chromadb) (1.69.0)\n",
            "Collecting opentelemetry-exporter-otlp-proto-common==1.30.0 (from opentelemetry-exporter-otlp-proto-grpc>=1.2.0->chromadb)\n",
            "  Downloading opentelemetry_exporter_otlp_proto_common-1.30.0-py3-none-any.whl.metadata (1.9 kB)\n",
            "Collecting opentelemetry-proto==1.30.0 (from opentelemetry-exporter-otlp-proto-grpc>=1.2.0->chromadb)\n",
            "  Downloading opentelemetry_proto-1.30.0-py3-none-any.whl.metadata (2.4 kB)\n",
            "Collecting opentelemetry-sdk>=1.2.0 (from chromadb)\n",
            "  Downloading opentelemetry_sdk-1.30.0-py3-none-any.whl.metadata (1.6 kB)\n",
            "Collecting protobuf (from onnxruntime>=1.14.1->chromadb)\n",
            "  Downloading protobuf-5.29.3-cp38-abi3-manylinux2014_x86_64.whl.metadata (592 bytes)\n",
            "Collecting opentelemetry-instrumentation-asgi==0.51b0 (from opentelemetry-instrumentation-fastapi>=0.41b0->chromadb)\n",
            "  Downloading opentelemetry_instrumentation_asgi-0.51b0-py3-none-any.whl.metadata (2.1 kB)\n",
            "Collecting opentelemetry-instrumentation==0.51b0 (from opentelemetry-instrumentation-fastapi>=0.41b0->chromadb)\n",
            "  Downloading opentelemetry_instrumentation-0.51b0-py3-none-any.whl.metadata (6.3 kB)\n",
            "Collecting opentelemetry-semantic-conventions==0.51b0 (from opentelemetry-instrumentation-fastapi>=0.41b0->chromadb)\n",
            "  Downloading opentelemetry_semantic_conventions-0.51b0-py3-none-any.whl.metadata (2.5 kB)\n",
            "Collecting opentelemetry-util-http==0.51b0 (from opentelemetry-instrumentation-fastapi>=0.41b0->chromadb)\n",
            "  Downloading opentelemetry_util_http-0.51b0-py3-none-any.whl.metadata (2.6 kB)\n",
            "Requirement already satisfied: wrapt<2.0.0,>=1.0.0 in /usr/local/lib/python3.11/dist-packages (from opentelemetry-instrumentation==0.51b0->opentelemetry-instrumentation-fastapi>=0.41b0->chromadb) (1.17.2)\n",
            "Collecting asgiref~=3.0 (from opentelemetry-instrumentation-asgi==0.51b0->opentelemetry-instrumentation-fastapi>=0.41b0->chromadb)\n",
            "  Downloading asgiref-3.8.1-py3-none-any.whl.metadata (9.3 kB)\n",
            "Collecting opentelemetry-api>=1.2.0 (from chromadb)\n",
            "  Downloading opentelemetry_api-1.30.0-py3-none-any.whl.metadata (1.6 kB)\n",
            "Collecting importlib-metadata<=8.5.0,>=6.0 (from opentelemetry-api>=1.2.0->chromadb)\n",
            "  Downloading importlib_metadata-8.5.0-py3-none-any.whl.metadata (4.8 kB)\n",
            "Collecting monotonic>=1.5 (from posthog>=2.4.0->chromadb)\n",
            "  Downloading monotonic-1.6-py2.py3-none-any.whl.metadata (1.5 kB)\n",
            "Collecting backoff>=1.10.0 (from posthog>=2.4.0->chromadb)\n",
            "  Downloading backoff-2.2.1-py3-none-any.whl.metadata (14 kB)\n",
            "Requirement already satisfied: distro>=1.5.0 in /usr/local/lib/python3.11/dist-packages (from posthog>=2.4.0->chromadb) (1.9.0)\n",
            "Requirement already satisfied: annotated-types>=0.6.0 in /usr/local/lib/python3.11/dist-packages (from pydantic>=1.9->chromadb) (0.7.0)\n",
            "Requirement already satisfied: pydantic-core==2.27.2 in /usr/local/lib/python3.11/dist-packages (from pydantic>=1.9->chromadb) (2.27.2)\n",
            "Requirement already satisfied: markdown-it-py>=2.2.0 in /usr/local/lib/python3.11/dist-packages (from rich>=10.11.0->chromadb) (3.0.0)\n",
            "Requirement already satisfied: pygments<3.0.0,>=2.13.0 in /usr/local/lib/python3.11/dist-packages (from rich>=10.11.0->chromadb) (2.18.0)\n",
            "Requirement already satisfied: huggingface-hub<1.0,>=0.16.4 in /usr/local/lib/python3.11/dist-packages (from tokenizers>=0.13.2->chromadb) (0.28.1)\n",
            "Requirement already satisfied: click>=8.0.0 in /usr/local/lib/python3.11/dist-packages (from typer>=0.9.0->chromadb) (8.1.8)\n",
            "Requirement already satisfied: shellingham>=1.3.0 in /usr/local/lib/python3.11/dist-packages (from typer>=0.9.0->chromadb) (1.5.4)\n",
            "Collecting httptools>=0.6.3 (from uvicorn[standard]>=0.18.3->chromadb)\n",
            "  Downloading httptools-0.6.4-cp311-cp311-manylinux_2_5_x86_64.manylinux1_x86_64.manylinux_2_17_x86_64.manylinux2014_x86_64.whl.metadata (3.6 kB)\n",
            "Requirement already satisfied: python-dotenv>=0.13 in /usr/local/lib/python3.11/dist-packages (from uvicorn[standard]>=0.18.3->chromadb) (1.0.1)\n",
            "Collecting uvloop!=0.15.0,!=0.15.1,>=0.14.0 (from uvicorn[standard]>=0.18.3->chromadb)\n",
            "  Downloading uvloop-0.21.0-cp311-cp311-manylinux_2_17_x86_64.manylinux2014_x86_64.whl.metadata (4.9 kB)\n",
            "Collecting watchfiles>=0.13 (from uvicorn[standard]>=0.18.3->chromadb)\n",
            "  Downloading watchfiles-1.0.4-cp311-cp311-manylinux_2_17_x86_64.manylinux2014_x86_64.whl.metadata (4.9 kB)\n",
            "Requirement already satisfied: websockets>=10.4 in /usr/local/lib/python3.11/dist-packages (from uvicorn[standard]>=0.18.3->chromadb) (14.2)\n",
            "Requirement already satisfied: cachetools<6.0,>=2.0.0 in /usr/local/lib/python3.11/dist-packages (from google-auth>=1.0.1->kubernetes>=28.1.0->chromadb) (5.5.2)\n",
            "Requirement already satisfied: pyasn1-modules>=0.2.1 in /usr/local/lib/python3.11/dist-packages (from google-auth>=1.0.1->kubernetes>=28.1.0->chromadb) (0.4.1)\n",
            "Requirement already satisfied: rsa<5,>=3.1.4 in /usr/local/lib/python3.11/dist-packages (from google-auth>=1.0.1->kubernetes>=28.1.0->chromadb) (4.9)\n",
            "Requirement already satisfied: filelock in /usr/local/lib/python3.11/dist-packages (from huggingface-hub<1.0,>=0.16.4->tokenizers>=0.13.2->chromadb) (3.17.0)\n",
            "Requirement already satisfied: fsspec>=2023.5.0 in /usr/local/lib/python3.11/dist-packages (from huggingface-hub<1.0,>=0.16.4->tokenizers>=0.13.2->chromadb) (2024.10.0)\n",
            "Requirement already satisfied: zipp>=3.20 in /usr/local/lib/python3.11/dist-packages (from importlib-metadata<=8.5.0,>=6.0->opentelemetry-api>=1.2.0->chromadb) (3.21.0)\n",
            "Requirement already satisfied: mdurl~=0.1 in /usr/local/lib/python3.11/dist-packages (from markdown-it-py>=2.2.0->rich>=10.11.0->chromadb) (0.1.2)\n",
            "Requirement already satisfied: charset-normalizer<4,>=2 in /usr/local/lib/python3.11/dist-packages (from requests->kubernetes>=28.1.0->chromadb) (3.4.1)\n",
            "Requirement already satisfied: sniffio>=1.1 in /usr/local/lib/python3.11/dist-packages (from anyio->httpx>=0.27.0->chromadb) (1.3.1)\n",
            "Collecting humanfriendly>=9.1 (from coloredlogs->onnxruntime>=1.14.1->chromadb)\n",
            "  Downloading humanfriendly-10.0-py2.py3-none-any.whl.metadata (9.2 kB)\n",
            "Requirement already satisfied: mpmath<1.4,>=1.1.0 in /usr/local/lib/python3.11/dist-packages (from sympy->onnxruntime>=1.14.1->chromadb) (1.3.0)\n",
            "Requirement already satisfied: pyasn1<0.7.0,>=0.4.6 in /usr/local/lib/python3.11/dist-packages (from pyasn1-modules>=0.2.1->google-auth>=1.0.1->kubernetes>=28.1.0->chromadb) (0.6.1)\n",
            "Downloading chromadb-0.6.3-py3-none-any.whl (611 kB)\n",
            "\u001b[2K   \u001b[90m━━━━━━━━━━━━━━━━━━━━━━━━━━━━━━━━━━━━━━━━\u001b[0m \u001b[32m611.1/611.1 kB\u001b[0m \u001b[31m16.6 MB/s\u001b[0m eta \u001b[36m0:00:00\u001b[0m\n",
            "\u001b[?25hDownloading chroma_hnswlib-0.7.6-cp311-cp311-manylinux_2_17_x86_64.manylinux2014_x86_64.whl (2.4 MB)\n",
            "\u001b[2K   \u001b[90m━━━━━━━━━━━━━━━━━━━━━━━━━━━━━━━━━━━━━━━━\u001b[0m \u001b[32m2.4/2.4 MB\u001b[0m \u001b[31m59.8 MB/s\u001b[0m eta \u001b[36m0:00:00\u001b[0m\n",
            "\u001b[?25hDownloading bcrypt-4.3.0-cp39-abi3-manylinux_2_34_x86_64.whl (284 kB)\n",
            "\u001b[2K   \u001b[90m━━━━━━━━━━━━━━━━━━━━━━━━━━━━━━━━━━━━━━━━\u001b[0m \u001b[32m284.2/284.2 kB\u001b[0m \u001b[31m19.2 MB/s\u001b[0m eta \u001b[36m0:00:00\u001b[0m\n",
            "\u001b[?25hDownloading build-1.2.2.post1-py3-none-any.whl (22 kB)\n",
            "Downloading fastapi-0.115.11-py3-none-any.whl (94 kB)\n",
            "\u001b[2K   \u001b[90m━━━━━━━━━━━━━━━━━━━━━━━━━━━━━━━━━━━━━━━━\u001b[0m \u001b[32m94.9/94.9 kB\u001b[0m \u001b[31m6.4 MB/s\u001b[0m eta \u001b[36m0:00:00\u001b[0m\n",
            "\u001b[?25hDownloading kubernetes-32.0.1-py2.py3-none-any.whl (2.0 MB)\n",
            "\u001b[2K   \u001b[90m━━━━━━━━━━━━━━━━━━━━━━━━━━━━━━━━━━━━━━━━\u001b[0m \u001b[32m2.0/2.0 MB\u001b[0m \u001b[31m68.5 MB/s\u001b[0m eta \u001b[36m0:00:00\u001b[0m\n",
            "\u001b[?25hDownloading mmh3-5.1.0-cp311-cp311-manylinux_2_5_x86_64.manylinux1_x86_64.manylinux_2_17_x86_64.manylinux2014_x86_64.whl (101 kB)\n",
            "\u001b[2K   \u001b[90m━━━━━━━━━━━━━━━━━━━━━━━━━━━━━━━━━━━━━━━━\u001b[0m \u001b[32m101.6/101.6 kB\u001b[0m \u001b[31m8.2 MB/s\u001b[0m eta \u001b[36m0:00:00\u001b[0m\n",
            "\u001b[?25hDownloading onnxruntime-1.20.1-cp311-cp311-manylinux_2_27_x86_64.manylinux_2_28_x86_64.whl (13.3 MB)\n",
            "\u001b[2K   \u001b[90m━━━━━━━━━━━━━━━━━━━━━━━━━━━━━━━━━━━━━━━━\u001b[0m \u001b[32m13.3/13.3 MB\u001b[0m \u001b[31m67.4 MB/s\u001b[0m eta \u001b[36m0:00:00\u001b[0m\n",
            "\u001b[?25hDownloading opentelemetry_exporter_otlp_proto_grpc-1.30.0-py3-none-any.whl (18 kB)\n",
            "Downloading opentelemetry_exporter_otlp_proto_common-1.30.0-py3-none-any.whl (18 kB)\n",
            "Downloading opentelemetry_proto-1.30.0-py3-none-any.whl (55 kB)\n",
            "\u001b[2K   \u001b[90m━━━━━━━━━━━━━━━━━━━━━━━━━━━━━━━━━━━━━━━━\u001b[0m \u001b[32m55.9/55.9 kB\u001b[0m \u001b[31m4.9 MB/s\u001b[0m eta \u001b[36m0:00:00\u001b[0m\n",
            "\u001b[?25hDownloading opentelemetry_instrumentation_fastapi-0.51b0-py3-none-any.whl (12 kB)\n",
            "Downloading opentelemetry_instrumentation-0.51b0-py3-none-any.whl (30 kB)\n",
            "Downloading opentelemetry_instrumentation_asgi-0.51b0-py3-none-any.whl (16 kB)\n",
            "Downloading opentelemetry_semantic_conventions-0.51b0-py3-none-any.whl (177 kB)\n",
            "\u001b[2K   \u001b[90m━━━━━━━━━━━━━━━━━━━━━━━━━━━━━━━━━━━━━━━━\u001b[0m \u001b[32m177.4/177.4 kB\u001b[0m \u001b[31m14.1 MB/s\u001b[0m eta \u001b[36m0:00:00\u001b[0m\n",
            "\u001b[?25hDownloading opentelemetry_api-1.30.0-py3-none-any.whl (64 kB)\n",
            "\u001b[2K   \u001b[90m━━━━━━━━━━━━━━━━━━━━━━━━━━━━━━━━━━━━━━━━\u001b[0m \u001b[32m65.0/65.0 kB\u001b[0m \u001b[31m5.2 MB/s\u001b[0m eta \u001b[36m0:00:00\u001b[0m\n",
            "\u001b[?25hDownloading opentelemetry_util_http-0.51b0-py3-none-any.whl (7.3 kB)\n",
            "Downloading opentelemetry_sdk-1.30.0-py3-none-any.whl (118 kB)\n",
            "\u001b[2K   \u001b[90m━━━━━━━━━━━━━━━━━━━━━━━━━━━━━━━━━━━━━━━━\u001b[0m \u001b[32m118.7/118.7 kB\u001b[0m \u001b[31m10.4 MB/s\u001b[0m eta \u001b[36m0:00:00\u001b[0m\n",
            "\u001b[?25hDownloading overrides-7.7.0-py3-none-any.whl (17 kB)\n",
            "Downloading posthog-3.19.0-py2.py3-none-any.whl (77 kB)\n",
            "\u001b[2K   \u001b[90m━━━━━━━━━━━━━━━━━━━━━━━━━━━━━━━━━━━━━━━━\u001b[0m \u001b[32m77.8/77.8 kB\u001b[0m \u001b[31m6.5 MB/s\u001b[0m eta \u001b[36m0:00:00\u001b[0m\n",
            "\u001b[?25hDownloading uvicorn-0.34.0-py3-none-any.whl (62 kB)\n",
            "\u001b[2K   \u001b[90m━━━━━━━━━━━━━━━━━━━━━━━━━━━━━━━━━━━━━━━━\u001b[0m \u001b[32m62.3/62.3 kB\u001b[0m \u001b[31m4.5 MB/s\u001b[0m eta \u001b[36m0:00:00\u001b[0m\n",
            "\u001b[?25hDownloading backoff-2.2.1-py3-none-any.whl (15 kB)\n",
            "Downloading durationpy-0.9-py3-none-any.whl (3.5 kB)\n",
            "Downloading httptools-0.6.4-cp311-cp311-manylinux_2_5_x86_64.manylinux1_x86_64.manylinux_2_17_x86_64.manylinux2014_x86_64.whl (459 kB)\n",
            "\u001b[2K   \u001b[90m━━━━━━━━━━━━━━━━━━━━━━━━━━━━━━━━━━━━━━━━\u001b[0m \u001b[32m459.8/459.8 kB\u001b[0m \u001b[31m31.3 MB/s\u001b[0m eta \u001b[36m0:00:00\u001b[0m\n",
            "\u001b[?25hDownloading importlib_metadata-8.5.0-py3-none-any.whl (26 kB)\n",
            "Downloading monotonic-1.6-py2.py3-none-any.whl (8.2 kB)\n",
            "Downloading protobuf-5.29.3-cp38-abi3-manylinux2014_x86_64.whl (319 kB)\n",
            "\u001b[2K   \u001b[90m━━━━━━━━━━━━━━━━━━━━━━━━━━━━━━━━━━━━━━━━\u001b[0m \u001b[32m319.7/319.7 kB\u001b[0m \u001b[31m21.3 MB/s\u001b[0m eta \u001b[36m0:00:00\u001b[0m\n",
            "\u001b[?25hDownloading starlette-0.46.0-py3-none-any.whl (71 kB)\n",
            "\u001b[2K   \u001b[90m━━━━━━━━━━━━━━━━━━━━━━━━━━━━━━━━━━━━━━━━\u001b[0m \u001b[32m72.0/72.0 kB\u001b[0m \u001b[31m5.5 MB/s\u001b[0m eta \u001b[36m0:00:00\u001b[0m\n",
            "\u001b[?25hDownloading uvloop-0.21.0-cp311-cp311-manylinux_2_17_x86_64.manylinux2014_x86_64.whl (4.0 MB)\n",
            "\u001b[2K   \u001b[90m━━━━━━━━━━━━━━━━━━━━━━━━━━━━━━━━━━━━━━━━\u001b[0m \u001b[32m4.0/4.0 MB\u001b[0m \u001b[31m76.5 MB/s\u001b[0m eta \u001b[36m0:00:00\u001b[0m\n",
            "\u001b[?25hDownloading watchfiles-1.0.4-cp311-cp311-manylinux_2_17_x86_64.manylinux2014_x86_64.whl (452 kB)\n",
            "\u001b[2K   \u001b[90m━━━━━━━━━━━━━━━━━━━━━━━━━━━━━━━━━━━━━━━━\u001b[0m \u001b[32m452.6/452.6 kB\u001b[0m \u001b[31m27.4 MB/s\u001b[0m eta \u001b[36m0:00:00\u001b[0m\n",
            "\u001b[?25hDownloading coloredlogs-15.0.1-py2.py3-none-any.whl (46 kB)\n",
            "\u001b[2K   \u001b[90m━━━━━━━━━━━━━━━━━━━━━━━━━━━━━━━━━━━━━━━━\u001b[0m \u001b[32m46.0/46.0 kB\u001b[0m \u001b[31m3.2 MB/s\u001b[0m eta \u001b[36m0:00:00\u001b[0m\n",
            "\u001b[?25hDownloading pyproject_hooks-1.2.0-py3-none-any.whl (10 kB)\n",
            "Downloading asgiref-3.8.1-py3-none-any.whl (23 kB)\n",
            "Downloading humanfriendly-10.0-py2.py3-none-any.whl (86 kB)\n",
            "\u001b[2K   \u001b[90m━━━━━━━━━━━━━━━━━━━━━━━━━━━━━━━━━━━━━━━━\u001b[0m \u001b[32m86.8/86.8 kB\u001b[0m \u001b[31m6.6 MB/s\u001b[0m eta \u001b[36m0:00:00\u001b[0m\n",
            "\u001b[?25hBuilding wheels for collected packages: pypika\n",
            "  Building wheel for pypika (pyproject.toml) ... \u001b[?25l\u001b[?25hdone\n",
            "  Created wheel for pypika: filename=pypika-0.48.9-py2.py3-none-any.whl size=53770 sha256=72f121f8bd4feba35c9e2337540fc898c8dd48c37ae14aba92bb03dd44120dde\n",
            "  Stored in directory: /root/.cache/pip/wheels/a3/01/bd/4c40ceb9d5354160cb186dcc153360f4ab7eb23e2b24daf96d\n",
            "Successfully built pypika\n",
            "Installing collected packages: pypika, monotonic, durationpy, uvloop, uvicorn, pyproject_hooks, protobuf, overrides, opentelemetry-util-http, mmh3, importlib-metadata, humanfriendly, httptools, chroma-hnswlib, bcrypt, backoff, asgiref, watchfiles, starlette, posthog, opentelemetry-proto, opentelemetry-api, coloredlogs, build, opentelemetry-semantic-conventions, opentelemetry-exporter-otlp-proto-common, onnxruntime, kubernetes, fastapi, opentelemetry-sdk, opentelemetry-instrumentation, opentelemetry-instrumentation-asgi, opentelemetry-exporter-otlp-proto-grpc, opentelemetry-instrumentation-fastapi, chromadb\n",
            "  Attempting uninstall: protobuf\n",
            "    Found existing installation: protobuf 4.25.6\n",
            "    Uninstalling protobuf-4.25.6:\n",
            "      Successfully uninstalled protobuf-4.25.6\n",
            "  Attempting uninstall: importlib-metadata\n",
            "    Found existing installation: importlib_metadata 8.6.1\n",
            "    Uninstalling importlib_metadata-8.6.1:\n",
            "      Successfully uninstalled importlib_metadata-8.6.1\n",
            "  Attempting uninstall: opentelemetry-api\n",
            "    Found existing installation: opentelemetry-api 1.16.0\n",
            "    Uninstalling opentelemetry-api-1.16.0:\n",
            "      Successfully uninstalled opentelemetry-api-1.16.0\n",
            "  Attempting uninstall: opentelemetry-semantic-conventions\n",
            "    Found existing installation: opentelemetry-semantic-conventions 0.37b0\n",
            "    Uninstalling opentelemetry-semantic-conventions-0.37b0:\n",
            "      Successfully uninstalled opentelemetry-semantic-conventions-0.37b0\n",
            "  Attempting uninstall: opentelemetry-sdk\n",
            "    Found existing installation: opentelemetry-sdk 1.16.0\n",
            "    Uninstalling opentelemetry-sdk-1.16.0:\n",
            "      Successfully uninstalled opentelemetry-sdk-1.16.0\n",
            "Successfully installed asgiref-3.8.1 backoff-2.2.1 bcrypt-4.3.0 build-1.2.2.post1 chroma-hnswlib-0.7.6 chromadb-0.6.3 coloredlogs-15.0.1 durationpy-0.9 fastapi-0.115.11 httptools-0.6.4 humanfriendly-10.0 importlib-metadata-8.5.0 kubernetes-32.0.1 mmh3-5.1.0 monotonic-1.6 onnxruntime-1.20.1 opentelemetry-api-1.30.0 opentelemetry-exporter-otlp-proto-common-1.30.0 opentelemetry-exporter-otlp-proto-grpc-1.30.0 opentelemetry-instrumentation-0.51b0 opentelemetry-instrumentation-asgi-0.51b0 opentelemetry-instrumentation-fastapi-0.51b0 opentelemetry-proto-1.30.0 opentelemetry-sdk-1.30.0 opentelemetry-semantic-conventions-0.51b0 opentelemetry-util-http-0.51b0 overrides-7.7.0 posthog-3.19.0 protobuf-5.29.3 pypika-0.48.9 pyproject_hooks-1.2.0 starlette-0.46.0 uvicorn-0.34.0 uvloop-0.21.0 watchfiles-1.0.4\n"
          ]
        },
        {
          "output_type": "display_data",
          "data": {
            "application/vnd.colab-display-data+json": {
              "pip_warning": {
                "packages": [
                  "importlib_metadata"
                ]
              },
              "id": "640f98fb9a2344eeaaec35789b0bbea7"
            }
          },
          "metadata": {}
        }
      ],
      "source": [
        "!pip install chromadb"
      ]
    },
    {
      "cell_type": "code",
      "execution_count": 1,
      "id": "glb5rSDubo3j",
      "metadata": {
        "colab": {
          "base_uri": "https://localhost:8080/"
        },
        "id": "glb5rSDubo3j",
        "outputId": "bffe6437-66ef-410a-d586-a5f40a55424d"
      },
      "outputs": [
        {
          "output_type": "stream",
          "name": "stdout",
          "text": [
            "Requirement already satisfied: pymupdf in /usr/local/lib/python3.11/dist-packages (1.25.3)\n"
          ]
        }
      ],
      "source": [
        "!pip install pymupdf"
      ]
    },
    {
      "cell_type": "markdown",
      "source": [
        "- PyMuPDFLoader: Read PDF files.\n",
        "- ConversationalRetrievalChain: Retrieve chunks similar to the query from the knowledge base.\n",
        "- CharacterTextSplitter: Split text into chunks.\n",
        "- PromptTemplate: Set instructions or roles.\n",
        "- Chroma: Store embeddings in the knowledge base.\n",
        "- OpenAIEmbeddings: Generate embeddings.\n",
        "- ChatOpenAI: ตัThe LLM (Language Model)."
      ],
      "metadata": {
        "id": "-04ELi1uXaKH"
      },
      "id": "-04ELi1uXaKH"
    },
    {
      "cell_type": "code",
      "execution_count": 4,
      "id": "b1fc20e5",
      "metadata": {
        "id": "b1fc20e5"
      },
      "outputs": [],
      "source": [
        "import os\n",
        "# import sys\n",
        "\n",
        "from langchain_community.document_loaders import PyMuPDFLoader\n",
        "from langchain.chains import ConversationalRetrievalChain\n",
        "from langchain.text_splitter import CharacterTextSplitter\n",
        "from langchain.prompts import PromptTemplate\n",
        "from langchain.vectorstores import Chroma\n",
        "from langchain_openai import OpenAIEmbeddings\n",
        "from langchain_openai import ChatOpenAI"
      ]
    },
    {
      "cell_type": "markdown",
      "source": [
        "# Input your API key from OPENAI\n",
        "https://platform.openai.com/docs/api-reference/introduction"
      ],
      "metadata": {
        "id": "WhoO7v9thfd-"
      },
      "id": "WhoO7v9thfd-"
    },
    {
      "cell_type": "code",
      "execution_count": 5,
      "id": "387ff8f7",
      "metadata": {
        "id": "387ff8f7"
      },
      "outputs": [],
      "source": [
        "# Generate API KEY from OPENAI website and define as a variable.\n",
        "os.environ[\"OPENAI_API_KEY\"] = \"input_your_key\""
      ]
    },
    {
      "cell_type": "code",
      "execution_count": 6,
      "id": "GLMSTSLEIefG",
      "metadata": {
        "colab": {
          "base_uri": "https://localhost:8080/"
        },
        "id": "GLMSTSLEIefG",
        "outputId": "1a5eb3c6-2e79-432d-82a7-06bf14fec0dc"
      },
      "outputs": [
        {
          "output_type": "stream",
          "name": "stdout",
          "text": [
            "Downloading...\n",
            "From: https://drive.google.com/uc?id=1yh_w8b_evruyWlJ3SvryVtGUENPADYuK\n",
            "To: /content/callcenter_whisper.pdf\n",
            "\r  0% 0.00/47.2k [00:00<?, ?B/s]\r100% 47.2k/47.2k [00:00<00:00, 74.3MB/s]\n"
          ]
        }
      ],
      "source": [
        "!gdown 1yh_w8b_evruyWlJ3SvryVtGUENPADYuK"
      ]
    },
    {
      "cell_type": "markdown",
      "source": [
        "# __Read pdf file__"
      ],
      "metadata": {
        "id": "oYxlX3GXYJcO"
      },
      "id": "oYxlX3GXYJcO"
    },
    {
      "cell_type": "code",
      "execution_count": 7,
      "id": "0327a1cc",
      "metadata": {
        "id": "0327a1cc"
      },
      "outputs": [],
      "source": [
        "# Define the path to your local PDF file\n",
        "local_path = \"/content/callcenter_whisper.pdf\"\n",
        "\n",
        "# Load and split the PDF file\n",
        "if local_path:\n",
        "    loader = PyMuPDFLoader(file_path=local_path)\n",
        "    data = loader.load()\n",
        "else:\n",
        "    print(\"Upload a PDF file\")\n",
        "    sys.exit()"
      ]
    },
    {
      "cell_type": "code",
      "execution_count": 8,
      "id": "f0ca19b7",
      "metadata": {
        "colab": {
          "base_uri": "https://localhost:8080/"
        },
        "id": "f0ca19b7",
        "outputId": "639c1e7a-8639-4b67-e8ff-b06a10d5524e",
        "scrolled": true
      },
      "outputs": [
        {
          "output_type": "execute_result",
          "data": {
            "text/plain": [
              "[Document(metadata={'producer': 'Microsoft® Word for Microsoft 365', 'creator': 'Microsoft® Word for Microsoft 365', 'creationdate': '2025-03-06T13:20:31+07:00', 'source': '/content/callcenter_whisper.pdf', 'file_path': '/content/callcenter_whisper.pdf', 'total_pages': 1, 'format': 'PDF 1.7', 'title': '', 'author': 'Sirintra Vichitsrikamol', 'subject': '', 'keywords': '', 'moddate': '2025-03-06T13:20:31+07:00', 'trapped': '', 'modDate': \"D:20250306132031+07'00'\", 'creationDate': \"D:20250306132031+07'00'\", 'page': 0}, page_content='สวัสดีค่ะขอเรียนสายคุณโชคดีมีเงินค่ะดิฉันนางสาวขายดีทวีซับติดต่อจากบริษัทคุ้มดีจ ากัดในเครือธนาคารFin4u\\nทางบริษัทได้จัดท าโครงการพิเศษชื่อว่าคุ้มดีมีคืนสะดวกเรียนสายได้สักครู่ไหมคะสะดวกค่ะออกพระคุณค่ะหนูขอ\\nอนุญาตบันทึกสายสนทนานะคะดิฉันนางสาวขายดีทวีซับเลขที่ใบอนุญาตตัวแทนต่อท.1902-2025ค่ะทางโครงการ\\nขอเรียนเชิญคุณลูกค้าเข้าร่วมโครงการคุ้มดีมีคืนค่ะซึ่งเป็นโครงการออมซับพิเศษในรูปแบบการประกันชีวิตสะสมซับ\\nซึ่งผลประโยชน์ที่ลูกค้าได้เชิญค่ะคุณลูกค้าจะได้รับแตกต่างจากที่อื่นๆเพราะการันตีผลตอบแทนรวมตลอดสัญญา\\nสูงสุดถึง616%ของทุนประกันชีวิตเลยค่ะโดยคุณลูกค้าไม่ต้องใช้เงินก้อนเป็นหมื่นเป็นแสนเลยนะคะเพียงออมเงิน\\nทุกๆเดือนเท่าๆกันตัวอย่างเช่นคุณลูกค้าจ่ายเบี้ยเพียงวันละ90บาทหรือรายเดือนเดือนละ2700บาทคุณลูกค้าจะได้\\nเงินคืนทุกปีตั้งแต่ปีที่1จนถึงปีที่14การันตีรับเงินคืนปีละ3200บาท14ปีเท่ากับได้ออมเพิ่มขึ้น44,800บาทสิ้นปีที่15\\nถึง24รับเงินการันตีเพิ่มขึ้นไปอีกเป็นปีละ6,400บาทรวม10ปีเป็นการรันตีเป็นเงินเพิ่ม64,000บาทค่ะและเมื่อสิ้นปี\\nที่24ที่ครบอายุสัญญาคุณลูกค้าจะได้เงินออม384,000บาทเมื่อรวมกับเงินคืนที่ได้ไปในปีที่1ถึงปีที่24แล้วเป็นเงิน\\n492,800บาทเลยทีเดียวค่ะที่ส าคัญคุณลูกค้าออมเงินเพียงวันละเพียงแค่14ปีแรกแต่มีเงินเพิ่มทุกๆปีถึง24ปีเลยค่ะ\\nนอกจากนี้ลูกค้ายังสามารถน ายอดเบี้ยที่ช าระในปีที่14ปีแรกไปลดยนต์ภาษีในแต่ละปีและยังได้รับความคุ้มครองกรี\\nลูกค้าสูญเสียชีวิตระหว่างปี24นี้ในวงเงินที่0ถึง384,000บาทตั้งแต่ว่าตั้งแต่วันที่ลูกค้าได้รับการอนุมัติกรมทันให้อีก\\nด้วยซึ่งเงินก้อนนี้สามารถส่งต่อเป็นมารดกให้ลูกหลานหรือพ่อแม่ได้ค่ะโดยคุ้มครองทุกกรณีของการเสียชีวิตยกเว้นการ\\nฆ่าตัวตายปีแรกหรือถูผู้รับผลประโยชน์ฆาตกรรมค่ะโครงการนี้เป็นประกันชีวิตแบบสะสมทYoutที่ลูกค้าได้รับ\\nผลตอบแทนครบทุกด้านทั้งผลตอบแทนในรูปแบบเงินคืนการันตีทุกปี24ปีความคุ้มครองชีวิตและประโยชน์ในการ\\nลดหย่อนภาษีเราจึงจัดท าโครงการนี้เป็นพิเศษไม่เหมือนใครเพื่อคุณลูกค้าโดยเฉพาะเลยค่ะคุณลูกค้าสนใจเข้าร่วม\\nโครงการหรือไม่คะแล้วมันเอาไปลงทุนยังไงคะแล้วมีความเสี่ยงไหมคะขายดีขอแจ้งคุณลูกค้าแบบนี้นะคะโครงการนี้\\nไม่ได้เป็นการลุงทุนค่ะคุณลูกค้าแต่เป็นการออมเงินและได้สิทธิประโยชน์ในการคุ้มครองชีวิตไปด้วยซึ่งต่างจากการน า\\nเงินไปลุงทุนในหุ้นหรือตลาดทุนที่คุณลูกค้าอาจจะเสี่ยงที่จะขาดทุนหรือสูญเสียเงินจากการลงทุนได้ค่ะอ๋ออ๋อเข้าใจ\\nแล้วค่ะคุณลูกค้ายืนยันเข้าร่วมโครงการนะคะขายดีขอทวนชื่อคุณลูกค้าเป็นคุณโชคดีมีเงินอยู่บ้านเลขที่69-96\\nหมู่บ้านโชคดีทวีสุกถนนรัชดาพิเศษแขวงดินแดงเขตดินแดงกรุงเทพ10310ถูกต้องไหมคะถูกต้องค่ะขอบคุณค่ะคุณ\\nลูกค้าภายใน15วันท าการทางบริษัทจะส่งเอกสารรายละเอียดการออมให้เก็บไว้เป็นหลักฐานโดยเป็นกรมธรรมชบับ\\nสะสมทรัพย์ออมเพิ่มสุขที่แปลกที่จะระบุผลตอบแทนแบบการันตีทุกๆตัวเลขตามที่เจ้าหน้าที่แจ้งทั้งหมดจัดส่งตามที่ที่\\nอยู่รแบบบุไว้เลยไหมคะคุณลูกค้าได้เลยค่ะขอบคุณค่ะคุณลูกค้าขายดีขอขอบพระคุณคุณลูกค้าเป็นอย่างสูงและขอให้\\nคุณลูกค้ามีสุขภาพแข็งแรงตลอดปี2525นะคะสวัสดีค่ะสวัสดีครับ')]"
            ]
          },
          "metadata": {},
          "execution_count": 8
        }
      ],
      "source": [
        "data"
      ]
    },
    {
      "cell_type": "code",
      "execution_count": 9,
      "id": "70K_71N2LT0Q",
      "metadata": {
        "colab": {
          "base_uri": "https://localhost:8080/"
        },
        "id": "70K_71N2LT0Q",
        "outputId": "c2fa6617-8d38-496a-c8e3-a7814c99ee94"
      },
      "outputs": [
        {
          "output_type": "execute_result",
          "data": {
            "text/plain": [
              "2660"
            ]
          },
          "metadata": {},
          "execution_count": 9
        }
      ],
      "source": [
        "len('สวัสดีค่ะขอเรียนสายคุณโชคดีมีเงินค่ะดิฉันนางสาวขายดีทวีซับติดต่อจากบริษัทคุ้มดีจ ากัดในเครือธนาคารFin4u\\nทางบริษัทได้จัดท าโครงการพิเศษชื่อว่าคุ้มดีมีคืนสะดวกเรียนสายได้สักครู่ไหมคะสะดวกค่ะออกพระคุณค่ะหนูขอ\\nอนุญาตบันทึกสายสนทนานะคะดิฉันนางสาวขายดีทวีซับเลขที่ใบอนุญาตตัวแทนต่อท.1902-2025ค่ะทางโครงการ\\nขอเรียนเชิญคุณลูกค้าเข้าร่วมโครงการคุ้มดีมีคืนค่ะซึ่งเป็นโครงการออมซับพิเศษในรูปแบบการประกันชีวิตสะสมซับ\\nซึ่งผลประโยชน์ที่ลูกค้าได้เชิญค่ะคุณลูกค้าจะได้รับแตกต่างจากที่อื่นๆเพราะการันตีผลตอบแทนรวมตลอดสัญญา\\nสูงสุดถึง616%ของทุนประกันชีวิตเลยค่ะโดยคุณลูกค้าไม่ต้องใช้เงินก้อนเป็นหมื่นเป็นแสนเลยนะคะเพียงออมเงิน\\nทุกๆเดือนเท่าๆกันตัวอย่างเช่นคุณลูกค้าจ่ายเบี้ยเพียงวันละ90บาทหรือรายเดือนเดือนละ2700บาทคุณลูกค้าจะได้\\nเงินคืนทุกปีตั้งแต่ปีที่1จนถึงปีที่14การันตีรับเงินคืนปีละ3200บาท14ปีเท่ากับได้ออมเพิ่มขึ้น44,800บาทสิ้นปีที่15\\nถึง24รับเงินการันตีเพิ่มขึ้นไปอีกเป็นปีละ6,400บาทรวม10ปีเป็นการรันตีเป็นเงินเพิ่ม64,000บาทค่ะและเมื่อสิ้นปี\\nที่24ที่ครบอายุสัญญาคุณลูกค้าจะได้เงินออม384,000บาทเมื่อรวมกับเงินคืนที่ได้ไปในปีที่1ถึงปีที่24แล้วเป็นเงิน\\n492,800บาทเลยทีเดียวค่ะที่ส าคัญคุณลูกค้าออมเงินเพียงวันละเพียงแค่14ปีแรกแต่มีเงินเพิ่มทุกๆปีถึง24ปีเลยค่ะ\\nนอกจากนี้ลูกค้ายังสามารถน ายอดเบี้ยที่ช าระในปีที่14ปีแรกไปลดยนต์ภาษีในแต่ละปีและยังได้รับความคุ้มครองกรี\\nลูกค้าสูญเสียชีวิตระหว่างปี24นี้ในวงเงินที่0ถึง384,000บาทตั้งแต่ว่าตั้งแต่วันที่ลูกค้าได้รับการอนุมัติกรมทันให้อีก\\nด้วยซึ่งเงินก้อนนี้สามารถส่งต่อเป็นมารดกให้ลูกหลานหรือพ่อแม่ได้ค่ะโดยคุ้มครองทุกกรณีของการเสียชีวิตยกเว้นการ\\nฆ่าตัวตายปีแรกหรือถูผู้รับผลประโยชน์ฆาตกรรมค่ะโครงการนี้เป็นประกันชีวิตแบบสะสมทYoutที่ลูกค้าได้รับ\\nผลตอบแทนครบทุกด้านทั้งผลตอบแทนในรูปแบบเงินคืนการันตีทุกปี24ปีความคุ้มครองชีวิตและประโยชน์ในการ\\nลดหย่อนภาษีเราจึงจัดท าโครงการนี้เป็นพิเศษไม่เหมือนใครเพื่อคุณลูกค้าโดยเฉพาะเลยค่ะคุณลูกค้าสนใจเข้าร่วม\\nโครงการหรือไม่คะแล้วมันเอาไปลงทุนยังไงคะแล้วมีความเสี่ยงไหมคะขายดีขอแจ้งคุณลูกค้าแบบนี้นะคะโครงการนี้\\nไม่ได้เป็นการลุงทุนค่ะคุณลูกค้าแต่เป็นการออมเงินและได้สิทธิประโยชน์ในการคุ้มครองชีวิตไปด้วยซึ่งต่างจากการน า\\nเงินไปลุงทุนในหุ้นหรือตลาดทุนที่คุณลูกค้าอาจจะเสี่ยงที่จะขาดทุนหรือสูญเสียเงินจากการลงทุนได้ค่ะอ๋ออ๋อเข้าใจ\\nแล้วค่ะคุณลูกค้ายืนยันเข้าร่วมโครงการนะคะขายดีขอทวนชื่อคุณลูกค้าเป็นคุณโชคดีมีเงินอยู่บ้านเลขที่69-96\\nหมู่บ้านโชคดีทวีสุกถนนรัชดาพิเศษแขวงดินแดงเขตดินแดงกรุงเทพ10310ถูกต้องไหมคะถูกต้องค่ะขอบคุณค่ะคุณ\\nลูกค้าภายใน15วันท าการทางบริษัทจะส่งเอกสารรายละเอียดการออมให้เก็บไว้เป็นหลักฐานโดยเป็นกรมธรรมชบับ\\nสะสมทรัพย์ออมเพิ่มสุขที่แปลกที่จะระบุผลตอบแทนแบบการันตีทุกๆตัวเลขตามที่เจ้าหน้าที่แจ้งทั้งหมดจัดส่งตามที่ที่\\nอยู่รแบบบุไว้เลยไหมคะคุณลูกค้าได้เลยค่ะขอบคุณค่ะคุณลูกค้าขายดีขอขอบพระคุณคุณลูกค้าเป็นอย่างสูงและขอให้\\nคุณลูกค้ามีสุขภาพแข็งแรงตลอดปี2525นะคะสวัสดีค่ะสวัสดีครับ')"
      ]
    },
    {
      "cell_type": "markdown",
      "source": [
        "# __Split text into chunks__"
      ],
      "metadata": {
        "id": "w9nCXxtChHBR"
      },
      "id": "w9nCXxtChHBR"
    },
    {
      "cell_type": "code",
      "execution_count": 10,
      "id": "33740cfa",
      "metadata": {
        "id": "33740cfa"
      },
      "outputs": [],
      "source": [
        "text_splitter = CharacterTextSplitter(chunk_size=3000, chunk_overlap=0)\n",
        "texts = text_splitter.split_documents(data)"
      ]
    },
    {
      "cell_type": "code",
      "execution_count": 11,
      "id": "693fa4ba",
      "metadata": {
        "colab": {
          "base_uri": "https://localhost:8080/"
        },
        "id": "693fa4ba",
        "outputId": "4e284f60-b25a-4215-9b87-4e4682e29ee7"
      },
      "outputs": [
        {
          "output_type": "execute_result",
          "data": {
            "text/plain": [
              "[Document(metadata={'producer': 'Microsoft® Word for Microsoft 365', 'creator': 'Microsoft® Word for Microsoft 365', 'creationdate': '2025-03-06T13:20:31+07:00', 'source': '/content/callcenter_whisper.pdf', 'file_path': '/content/callcenter_whisper.pdf', 'total_pages': 1, 'format': 'PDF 1.7', 'title': '', 'author': 'Sirintra Vichitsrikamol', 'subject': '', 'keywords': '', 'moddate': '2025-03-06T13:20:31+07:00', 'trapped': '', 'modDate': \"D:20250306132031+07'00'\", 'creationDate': \"D:20250306132031+07'00'\", 'page': 0}, page_content='สวัสดีค่ะขอเรียนสายคุณโชคดีมีเงินค่ะดิฉันนางสาวขายดีทวีซับติดต่อจากบริษัทคุ้มดีจ ากัดในเครือธนาคารFin4u\\nทางบริษัทได้จัดท าโครงการพิเศษชื่อว่าคุ้มดีมีคืนสะดวกเรียนสายได้สักครู่ไหมคะสะดวกค่ะออกพระคุณค่ะหนูขอ\\nอนุญาตบันทึกสายสนทนานะคะดิฉันนางสาวขายดีทวีซับเลขที่ใบอนุญาตตัวแทนต่อท.1902-2025ค่ะทางโครงการ\\nขอเรียนเชิญคุณลูกค้าเข้าร่วมโครงการคุ้มดีมีคืนค่ะซึ่งเป็นโครงการออมซับพิเศษในรูปแบบการประกันชีวิตสะสมซับ\\nซึ่งผลประโยชน์ที่ลูกค้าได้เชิญค่ะคุณลูกค้าจะได้รับแตกต่างจากที่อื่นๆเพราะการันตีผลตอบแทนรวมตลอดสัญญา\\nสูงสุดถึง616%ของทุนประกันชีวิตเลยค่ะโดยคุณลูกค้าไม่ต้องใช้เงินก้อนเป็นหมื่นเป็นแสนเลยนะคะเพียงออมเงิน\\nทุกๆเดือนเท่าๆกันตัวอย่างเช่นคุณลูกค้าจ่ายเบี้ยเพียงวันละ90บาทหรือรายเดือนเดือนละ2700บาทคุณลูกค้าจะได้\\nเงินคืนทุกปีตั้งแต่ปีที่1จนถึงปีที่14การันตีรับเงินคืนปีละ3200บาท14ปีเท่ากับได้ออมเพิ่มขึ้น44,800บาทสิ้นปีที่15\\nถึง24รับเงินการันตีเพิ่มขึ้นไปอีกเป็นปีละ6,400บาทรวม10ปีเป็นการรันตีเป็นเงินเพิ่ม64,000บาทค่ะและเมื่อสิ้นปี\\nที่24ที่ครบอายุสัญญาคุณลูกค้าจะได้เงินออม384,000บาทเมื่อรวมกับเงินคืนที่ได้ไปในปีที่1ถึงปีที่24แล้วเป็นเงิน\\n492,800บาทเลยทีเดียวค่ะที่ส าคัญคุณลูกค้าออมเงินเพียงวันละเพียงแค่14ปีแรกแต่มีเงินเพิ่มทุกๆปีถึง24ปีเลยค่ะ\\nนอกจากนี้ลูกค้ายังสามารถน ายอดเบี้ยที่ช าระในปีที่14ปีแรกไปลดยนต์ภาษีในแต่ละปีและยังได้รับความคุ้มครองกรี\\nลูกค้าสูญเสียชีวิตระหว่างปี24นี้ในวงเงินที่0ถึง384,000บาทตั้งแต่ว่าตั้งแต่วันที่ลูกค้าได้รับการอนุมัติกรมทันให้อีก\\nด้วยซึ่งเงินก้อนนี้สามารถส่งต่อเป็นมารดกให้ลูกหลานหรือพ่อแม่ได้ค่ะโดยคุ้มครองทุกกรณีของการเสียชีวิตยกเว้นการ\\nฆ่าตัวตายปีแรกหรือถูผู้รับผลประโยชน์ฆาตกรรมค่ะโครงการนี้เป็นประกันชีวิตแบบสะสมทYoutที่ลูกค้าได้รับ\\nผลตอบแทนครบทุกด้านทั้งผลตอบแทนในรูปแบบเงินคืนการันตีทุกปี24ปีความคุ้มครองชีวิตและประโยชน์ในการ\\nลดหย่อนภาษีเราจึงจัดท าโครงการนี้เป็นพิเศษไม่เหมือนใครเพื่อคุณลูกค้าโดยเฉพาะเลยค่ะคุณลูกค้าสนใจเข้าร่วม\\nโครงการหรือไม่คะแล้วมันเอาไปลงทุนยังไงคะแล้วมีความเสี่ยงไหมคะขายดีขอแจ้งคุณลูกค้าแบบนี้นะคะโครงการนี้\\nไม่ได้เป็นการลุงทุนค่ะคุณลูกค้าแต่เป็นการออมเงินและได้สิทธิประโยชน์ในการคุ้มครองชีวิตไปด้วยซึ่งต่างจากการน า\\nเงินไปลุงทุนในหุ้นหรือตลาดทุนที่คุณลูกค้าอาจจะเสี่ยงที่จะขาดทุนหรือสูญเสียเงินจากการลงทุนได้ค่ะอ๋ออ๋อเข้าใจ\\nแล้วค่ะคุณลูกค้ายืนยันเข้าร่วมโครงการนะคะขายดีขอทวนชื่อคุณลูกค้าเป็นคุณโชคดีมีเงินอยู่บ้านเลขที่69-96\\nหมู่บ้านโชคดีทวีสุกถนนรัชดาพิเศษแขวงดินแดงเขตดินแดงกรุงเทพ10310ถูกต้องไหมคะถูกต้องค่ะขอบคุณค่ะคุณ\\nลูกค้าภายใน15วันท าการทางบริษัทจะส่งเอกสารรายละเอียดการออมให้เก็บไว้เป็นหลักฐานโดยเป็นกรมธรรมชบับ\\nสะสมทรัพย์ออมเพิ่มสุขที่แปลกที่จะระบุผลตอบแทนแบบการันตีทุกๆตัวเลขตามที่เจ้าหน้าที่แจ้งทั้งหมดจัดส่งตามที่ที่\\nอยู่รแบบบุไว้เลยไหมคะคุณลูกค้าได้เลยค่ะขอบคุณค่ะคุณลูกค้าขายดีขอขอบพระคุณคุณลูกค้าเป็นอย่างสูงและขอให้\\nคุณลูกค้ามีสุขภาพแข็งแรงตลอดปี2525นะคะสวัสดีค่ะสวัสดีครับ')]"
            ]
          },
          "metadata": {},
          "execution_count": 11
        }
      ],
      "source": [
        "texts"
      ]
    },
    {
      "cell_type": "markdown",
      "source": [
        "# __Generate embeddings__"
      ],
      "metadata": {
        "id": "Eb1_MJ1zhMgm"
      },
      "id": "Eb1_MJ1zhMgm"
    },
    {
      "cell_type": "code",
      "execution_count": 12,
      "id": "8c81a598",
      "metadata": {
        "id": "8c81a598"
      },
      "outputs": [],
      "source": [
        "# This part is used for embedding the docs and storing them into Vector DB and initializing the retriever.\n",
        "embeddings = OpenAIEmbeddings()\n",
        "docsearch = Chroma.from_documents(texts, embeddings)"
      ]
    },
    {
      "cell_type": "markdown",
      "source": [
        "# __Set instructions or roles__"
      ],
      "metadata": {
        "id": "pwZ0yz3GgrFK"
      },
      "id": "pwZ0yz3GgrFK"
    },
    {
      "cell_type": "code",
      "execution_count": 13,
      "id": "52f19c81-3a49-4958-afe8-2a29adde27dc",
      "metadata": {
        "id": "52f19c81-3a49-4958-afe8-2a29adde27dc"
      },
      "outputs": [],
      "source": [
        "custom_template = PromptTemplate(\n",
        "    input_variables=[\"context\", \"question\"],\n",
        "    template=\"\"\"\n",
        "    You are an AI Thai language sales coaching assistant.\n",
        "    Answer the question based ONLY on the following context.\n",
        "\n",
        "\n",
        "\n",
        "    {context}\n",
        "    Original question: {question}\"\"\",\n",
        ")"
      ]
    },
    {
      "cell_type": "markdown",
      "source": [
        "# Select model"
      ],
      "metadata": {
        "id": "4EMncm1ggxJR"
      },
      "id": "4EMncm1ggxJR"
    },
    {
      "cell_type": "code",
      "execution_count": 14,
      "id": "7958bbae",
      "metadata": {
        "id": "7958bbae"
      },
      "outputs": [],
      "source": [
        "# Create the language model\n",
        "llm1 = ChatOpenAI(model=\"gpt-4-turbo\") # gpt-3.5-turbo | gpt-4-turbo | gpt-4\n",
        "\n",
        "# Create the chain\n",
        "chain = ConversationalRetrievalChain.from_llm(\n",
        "    llm=llm1,\n",
        "    retriever=docsearch.as_retriever(),\n",
        "    combine_docs_chain_kwargs={\"prompt\": custom_template}\n",
        ")"
      ]
    },
    {
      "cell_type": "markdown",
      "source": [
        "# __talk with chatbot__"
      ],
      "metadata": {
        "id": "eVXBUmKvhT-v"
      },
      "id": "eVXBUmKvhT-v"
    },
    {
      "cell_type": "code",
      "execution_count": 16,
      "id": "6f48ec69",
      "metadata": {
        "colab": {
          "base_uri": "https://localhost:8080/"
        },
        "id": "6f48ec69",
        "outputId": "d677e6d9-c712-4507-b306-e5e12770dc56"
      },
      "outputs": [
        {
          "name": "stdout",
          "output_type": "stream",
          "text": [
            "User: บริษัทจะส่งเอกสารรายละเอียดการออมให้เก็บไว้เป็นหลักฐานภายในกี่วันค่ะ\n"
          ]
        },
        {
          "output_type": "stream",
          "name": "stderr",
          "text": [
            "WARNING:chromadb.segment.impl.vector.local_hnsw:Number of requested results 4 is greater than number of elements in index 1, updating n_results = 1\n"
          ]
        },
        {
          "name": "stdout",
          "output_type": "stream",
          "text": [
            "Chatbot: บริษัทจะส่งเอกสารรายละเอียดการออมให้เก็บไว้เป็นหลักฐานภายใน 15 วันทำการค่ะ.\n",
            "User: q\n"
          ]
        }
      ],
      "source": [
        "chat_history = []\n",
        "query = None  # Initialize query to avoid potential reference error\n",
        "\n",
        "while True:\n",
        "    if not query:\n",
        "        query = input(\"User: \")\n",
        "    if query in ['quit', 'q', 'exit']:\n",
        "        break\n",
        "    result = chain.invoke({\"question\": query, \"chat_history\": chat_history})\n",
        "    print(\"Chatbot:\", result['answer'])\n",
        "\n",
        "    chat_history.append((query, result['answer']))\n",
        "    query = None"
      ]
    },
    {
      "cell_type": "code",
      "execution_count": null,
      "id": "3bfbe49a-6902-4a7b-908e-78dbe9ce9a3d",
      "metadata": {
        "id": "3bfbe49a-6902-4a7b-908e-78dbe9ce9a3d"
      },
      "outputs": [],
      "source": []
    }
  ],
  "metadata": {
    "colab": {
      "provenance": [],
      "include_colab_link": true
    },
    "kernelspec": {
      "display_name": "Python 3",
      "name": "python3"
    },
    "language_info": {
      "codemirror_mode": {
        "name": "ipython",
        "version": 3
      },
      "file_extension": ".py",
      "mimetype": "text/x-python",
      "name": "python",
      "nbconvert_exporter": "python",
      "pygments_lexer": "ipython3",
      "version": "3.11.7"
    }
  },
  "nbformat": 4,
  "nbformat_minor": 5
}